{
 "cells": [
  {
   "cell_type": "code",
   "execution_count": 119,
   "id": "5266de11",
   "metadata": {},
   "outputs": [
    {
     "name": "stdout",
     "output_type": "stream",
     "text": [
      "\n",
      "                         ___________\n",
      "                         \\         /\n",
      "                          )_______(\n",
      "                          |\"\"\"\"\"\"\"|_.-._,.---------.,_.-._\n",
      "                          |       | | |               | | ''-.\n",
      "                          |       |_| |_             _| |_..-'\n",
      "                          |_______| '-' `'---------'` '-'\n",
      "                          )\"\"\"\"\"\"\"(\n",
      "                         /_________\\\n",
      "                       .-------------.\n",
      "                      /_______________\\\n",
      "\n",
      "Enter the name: arpan\n",
      "Enter the biding price: 23\n",
      "Are there any bidder? yes or no: yes\n",
      "Enter the name: aritra\n",
      "Enter the biding price: 232\n",
      "Are there any bidder? yes or no: yes\n",
      "Enter the name: arghya\n",
      "Enter the biding price: 82\n",
      "Are there any bidder? yes or no: yes\n",
      "Enter the name: abhisek\n",
      "Enter the biding price: 232321\n",
      "Are there any bidder? yes or no: yes\n",
      "Enter the name: aayush\n",
      "Enter the biding price: 23\n",
      "Are there any bidder? yes or no: yes\n",
      "Enter the name: akash\n",
      "Enter the biding price: 29\n",
      "Are there any bidder? yes or no: yes\n",
      "Enter the name: arpit\n",
      "Enter the biding price: 8328329839\n",
      "Are there any bidder? yes or no: no\n",
      "The winner is arpit has bid of 8328329839.0$ \n",
      "Goodbye\n"
     ]
    }
   ],
   "source": [
    "from art import logo\n",
    "list1=[]\n",
    "biding_info={}\n",
    "def bidders_info(name,price):        \n",
    "    biding_info[name]=price\n",
    "    list1.append(biding_info)\n",
    "print(logo)\n",
    "end=False\n",
    "while not end:\n",
    "#     print(biding_info)\n",
    "    name=input(\"Enter the name: \")\n",
    "    price=float(input(\"Enter the biding price: \"))\n",
    "    bidders_info(name,price)\n",
    "    Restart=input(\"Are there any bidder? yes or no: \")\n",
    "    if Restart=='no':\n",
    "        for i in biding_info:\n",
    "            if biding_info[i]==max(biding_info.values()):\n",
    "                break\n",
    "        print(f\"The winner is {i} has bid of {biding_info[i]}$ \")\n",
    "        end==True\n",
    "        print(\"Goodbye\")\n",
    "        break"
   ]
  },
  {
   "cell_type": "code",
   "execution_count": null,
   "id": "e8158302",
   "metadata": {},
   "outputs": [],
   "source": []
  },
  {
   "cell_type": "code",
   "execution_count": null,
   "id": "7d5f4383",
   "metadata": {},
   "outputs": [],
   "source": []
  },
  {
   "cell_type": "code",
   "execution_count": null,
   "id": "718cb60b",
   "metadata": {},
   "outputs": [],
   "source": []
  },
  {
   "cell_type": "code",
   "execution_count": null,
   "id": "ae9a3f25",
   "metadata": {},
   "outputs": [],
   "source": []
  },
  {
   "cell_type": "code",
   "execution_count": null,
   "id": "9dd5ec17",
   "metadata": {},
   "outputs": [],
   "source": []
  },
  {
   "cell_type": "code",
   "execution_count": null,
   "id": "eae8765e",
   "metadata": {},
   "outputs": [],
   "source": []
  },
  {
   "cell_type": "code",
   "execution_count": null,
   "id": "0b4b76f0",
   "metadata": {},
   "outputs": [],
   "source": []
  },
  {
   "cell_type": "code",
   "execution_count": null,
   "id": "7067004f",
   "metadata": {},
   "outputs": [],
   "source": []
  }
 ],
 "metadata": {
  "kernelspec": {
   "display_name": "Python 3 (ipykernel)",
   "language": "python",
   "name": "python3"
  },
  "language_info": {
   "codemirror_mode": {
    "name": "ipython",
    "version": 3
   },
   "file_extension": ".py",
   "mimetype": "text/x-python",
   "name": "python",
   "nbconvert_exporter": "python",
   "pygments_lexer": "ipython3",
   "version": "3.10.5"
  }
 },
 "nbformat": 4,
 "nbformat_minor": 5
}
